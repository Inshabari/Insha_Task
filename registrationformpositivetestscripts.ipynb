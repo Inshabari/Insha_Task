{
 "cells": [
  {
   "cell_type": "code",
   "execution_count": null,
   "metadata": {},
   "outputs": [],
   "source": [
    "import pytest\n",
    "from my_app import create_app, db\n",
    "from my_app.models import User\n",
    "\n",
    "@pytest.fixture\n",
    "def app():\n",
    "    app = create_app(test_config=True)\n",
    "    with app.app_context():\n",
    "        db.create_all()\n",
    "        yield app\n",
    "        db.drop_all()\n",
    "\n",
    "@pytest.fixture\n",
    "def client(app):\n",
    "    return app.test_client()\n",
    "\n",
    "def test_registration_form_valid_without_newsletter(client):\n",
    "    response = client.post('/register', data={\n",
    "        'Full Name': 'Test User',\n",
    "        'Email Address': 'testuser@example.com',\n",
    "        'Password': 'password123',\n",
    "        'Confirm Password': 'password123',\n",
    "        'Date of Birth': '2000-01-01',\n",
    "        'Gender': 'M',\n",
    "        'Newsletter Subscription': 'N',\n",
    "        'Submit': 'Submit'\n",
    "    }, follow_redirects=True)\n",
    "    assert b'Registration successful' in response.data\n",
    "\n",
    "def test_registration_form_valid_with_newsletter(client):\n",
    "    response = client.post('/register', data={\n",
    "        'Full Name': 'Test User',\n",
    "        'Email Address': 'testuser@example.com',\n",
    "        'Password': 'password123',\n",
    "        'Confirm Password': 'password123',\n",
    "        'Date of Birth': '2000-01-01',\n",
    "        'Gender': 'M',\n",
    "        'Newsletter Subscription': 'Y',\n",
    "        'Submit': 'Submit'\n",
    "    }, follow_redirects=True)\n",
    "    assert b'Registration successful and Subscribed to Our Newletter' in response.data\n",
    "\n"
   ]
  }
 ],
 "metadata": {
  "language_info": {
   "name": "python"
  }
 },
 "nbformat": 4,
 "nbformat_minor": 2
}
